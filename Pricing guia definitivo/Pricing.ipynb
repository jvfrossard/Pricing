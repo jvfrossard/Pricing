{
 "cells": [
  {
   "cell_type": "markdown",
   "id": "6f67c3af-ed36-46fd-9acc-81c747ca3b5a",
   "metadata": {},
   "source": [
    "# Pricing: o guia definitivo"
   ]
  },
  {
   "cell_type": "markdown",
   "id": "00e09d9c-ab1a-456e-9bc2-49da076594e1",
   "metadata": {},
   "source": [
    "## 1) Introdução"
   ]
  },
  {
   "cell_type": "markdown",
   "id": "f697be51-4ba3-4d16-98fe-d48f58f66e68",
   "metadata": {},
   "source": [
    "Pricing, do inglês, é o ato dar preço a um determinado produto ou serviço. Usualmente traduzido para português como precificação ou apreçamento, embora o nome pricing também seja bastante comum no Brasil. A ideia dessa grande área é fornecer ferramentas, métodos e ideias para se realizar precificações mais eficientes e melhores de determinado produto ou serviço. Nesse notebook iremos apresentar as estratégias de pricing mais usadas, com o respectivo detalhamento de como elas funcionam e quais seus prós e contras. Apresentaremos também um primeiro modelo de precificação que apesar da sua simplicidade produz bons insights. Discutiremos também estratégias e modelos de precificação em diferentes mercados, como em mercados de baixa demanda, mercados altamente competitivos, software as a service etc. Traremos discussões de risco e como quantificá-lo a partir da precificação de um produto. Por fim traremos algumas formas mais sofisticadas de precificação e como estabelecer o preço ótimo de um produto ou serviço através de técnicas de otimização. \n",
    "\n",
    "A ideia desse texto é, antes de tudo, compilar todas as principais informações sobre modelos de precificação, estratégias de precificação e formas de quantificar ou metrificar esses modelos/estratégias. Mas é também importante apresentar esse texto como um primeiro contato para pessoas iniciantes na área de pricing ou até mesmo para experientes na área. É uma forma de apresentar o conhecimento que adquiri e colocá-lo em discussão de forma a aprimorar o conhecimento da comunidade nessa área. Quaisquer críticas e comentários são muito bem-vindos."
   ]
  },
  {
   "cell_type": "markdown",
   "id": "23ba7a2f-b3c6-403d-8f44-3260d053fdda",
   "metadata": {},
   "source": [
    "## 2) Definições iniciais"
   ]
  },
  {
   "cell_type": "markdown",
   "id": "32a0df5f-ca60-4eb9-b7ea-ee3f686168b4",
   "metadata": {},
   "source": [
    "Conforme comentamos na introdução a grande área de pricing se destina dar preço a qualquer tipo de produto ou serviço (ou até mesmo objetos sendo negociados de forma ainda mais complexa, como instrumentos financeiros, inscrições online etc). Para simplificar sempre nos referiremos a esse conjunto de possibilidades como produto, omitindo a necessidade de se deixar claro que também pode ser um produto. Quando for necessário deixaremos claro que estamos tratando de um tipo específico de produto ou serviço, o que irá acontecer quando formos analisar exemplos de mercados e como estabelecer estratégias de precificação.\n",
    "\n",
    "Outra definição importante é sobre a notação e simbologia que usaremos. $P$ será o preço de um dado produto, $C$ o seu custo (direto) de produção, $F$ seu custo marginal (ou custo indireto), $Q$ a demanda desse produto. Essa nomenclatura será muito importante quando formos analisar modelos quantitativos de precificação."
   ]
  },
  {
   "cell_type": "markdown",
   "id": "ebcd8771-5cab-4eb9-8dd0-561a2039df68",
   "metadata": {},
   "source": [
    "## 3) Estratégias de precificação"
   ]
  },
  {
   "cell_type": "markdown",
   "id": "69d84ece-9844-4aea-a21e-4f74e235a819",
   "metadata": {},
   "source": [
    "### 3.1) Precificação baseada em competição"
   ]
  },
  {
   "cell_type": "markdown",
   "id": "682f54d9-858b-4c08-8949-3a9f242e4098",
   "metadata": {},
   "source": [
    "Um dos modelos mais usados em precificação, possivelmente o mais usado no Brasil. É um modelo que se baseia em precificar o seu produto baseado no preço dos seus concorrentes."
   ]
  },
  {
   "cell_type": "code",
   "execution_count": null,
   "id": "644e3351-ab3c-42a4-b23b-253dec629a74",
   "metadata": {},
   "outputs": [],
   "source": []
  }
 ],
 "metadata": {
  "kernelspec": {
   "display_name": "Python 3",
   "language": "python",
   "name": "python3"
  },
  "language_info": {
   "codemirror_mode": {
    "name": "ipython",
    "version": 3
   },
   "file_extension": ".py",
   "mimetype": "text/x-python",
   "name": "python",
   "nbconvert_exporter": "python",
   "pygments_lexer": "ipython3",
   "version": "3.9.5"
  }
 },
 "nbformat": 4,
 "nbformat_minor": 5
}
